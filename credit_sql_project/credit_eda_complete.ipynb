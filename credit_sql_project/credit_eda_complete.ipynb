{
  "nbformat": 4,
  "nbformat_minor": 0,
  "metadata": {
    "colab": {
      "provenance": [],
      "toc_visible": true
    },
    "kernelspec": {
      "name": "python3",
      "display_name": "Python 3"
    },
    "language_info": {
      "name": "python"
    }
  },
  "cells": [
    {
      "cell_type": "markdown",
      "source": [
        "# **PROJETO SQL - EDA de Crédito**\n",
        "**Parceria - EBAC Escola Britânica de Artes Criativas e Tecnologia**"
      ],
      "metadata": {
        "id": "-i6qgn-T0atC"
      }
    },
    {
      "cell_type": "markdown",
      "source": [
        "# 1\\. Introdução"
      ],
      "metadata": {
        "id": "I3tlAPVo1gkd"
      }
    },
    {
      "cell_type": "markdown",
      "source": [
        "Vamos analisar uma base de dados de clientes cadastrados em um banco de crédito; \\\n",
        "Para início, vamos verificar os dados disponíveis para exploração:"
      ],
      "metadata": {
        "id": "plLFf0JB1jJ5"
      }
    },
    {
      "cell_type": "markdown",
      "source": [
        "- idade = idade do cliente\n",
        "- sexo = sexo do cliente (F ou M)\n",
        "- dependentes = número de dependentes do cliente\n",
        "- escolaridade = nível de escolaridade do clientes\n",
        "- salario_anual = faixa salarial do cliente\n",
        "- tipo_cartao = tipo de cartao do cliente\n",
        "- qtd_produtos = quantidade de produtos comprados nos últimos 12 meses\n",
        "- iteracoes_12m = quantidade de iterações/transacoes nos ultimos 12 meses\n",
        "- meses_inativo_12m = quantidade de meses que o cliente ficou inativo\n",
        "- limite_credito = limite de credito do cliente\n",
        "- valor_transacoes_12m = valor das transações dos ultimos 12 meses\n",
        "- qtd_transacoes_12m = quantidade de transacoes dos ultimos 12 meses"
      ],
      "metadata": {
        "id": "6P5YMt5Y14cg"
      }
    },
    {
      "cell_type": "markdown",
      "source": [
        "A tabela foi criada no **AWS Athena** junto com o **S3 Bucket** com uma versão dos dados disponibilizados neste [link](https://github.com/andre-marcos-perez/ebac-course-utils/tree/main/dataset); \\\n",
        "Para este projeto, usaremos uma menor dimensão do banco completo."
      ],
      "metadata": {
        "id": "OHO4sgoK2sBs"
      }
    },
    {
      "cell_type": "markdown",
      "source": [
        "# 2\\. Exploração"
      ],
      "metadata": {
        "id": "IOMCZAgT2nQE"
      }
    },
    {
      "cell_type": "markdown",
      "source": [
        "Como primeira fase, iremos verificar o tipo, quantidade e composição de nossos dados para entendermos melhor sua estrutura e as informações úteis que podemos retirar dele"
      ],
      "metadata": {
        "id": "NnsPx3Hu2qQG"
      }
    },
    {
      "cell_type": "markdown",
      "source": [
        "## 2.1. Quantidade de Dados Disponíveis"
      ],
      "metadata": {
        "id": "gfZPgl_G3Pd6"
      }
    },
    {
      "cell_type": "markdown",
      "source": [
        "- Query 1:\n",
        "``` sql\n",
        "SELECT count(*) FROM credito;\n",
        "```\n",
        "Resultado: 2564 linhas"
      ],
      "metadata": {
        "id": "4q-Ocwqi3aZv"
      }
    },
    {
      "cell_type": "markdown",
      "source": [
        "Como informado anteriormente, a base de dados do link disponibilizado contém mais linhas do que a seleção utilizada. Podemos sim utilizar todas as linhas ou também considerar apenas uma fração dos dados. \\\n",
        "Na prática, quanto maior a quantidade de dados utilizada, mais confiável a análise, porém existem limites computacionais e financeiros na qual a redução de dados para análise se torna interessante, como é o caso atual."
      ],
      "metadata": {
        "id": "GMqYreUD6NID"
      }
    },
    {
      "cell_type": "markdown",
      "source": [
        "## 2.2. Como São os Dados"
      ],
      "metadata": {
        "id": "JVHMHd3d6p70"
      }
    },
    {
      "cell_type": "markdown",
      "source": [
        "- Query 2:\n",
        "```sql\n",
        "SELECT * FROM credito LIMIT 10;\n",
        "```\n",
        "\n",
        "Resultado:\n",
        "\n",
        "\n",
        "![imagem](https://github.com/VictorCamolese/EBAC-DataAnalyticsProjects/blob/main/como%20sao%20os%20dados.png?raw=true)\n"
      ],
      "metadata": {
        "id": "SzIrI95260k_"
      }
    },
    {
      "cell_type": "markdown",
      "source": [
        "É possível reparar que existem algumas informações nulas na tabela (valor na), vamos olhar mais de perto para os valores de cada coluna!"
      ],
      "metadata": {
        "id": "2Z98NxE-7Ets"
      }
    },
    {
      "cell_type": "markdown",
      "source": [
        "## 2.3. Tipos de Dados"
      ],
      "metadata": {
        "id": "r3jp4rUV9baA"
      }
    },
    {
      "cell_type": "markdown",
      "source": [
        "- Query 3:\n",
        "``` sql\n",
        "DESCRIBE credito;\n",
        "```\n",
        "Resultado:\n",
        "\n",
        "\n",
        "![image](https://github.com/VictorCamolese/EBAC-DataAnalyticsProjects/blob/main/describe%20credito.png?raw=true)"
      ],
      "metadata": {
        "id": "KdvAHWk69pcm"
      }
    },
    {
      "cell_type": "markdown",
      "source": [
        "Agora que ja entendemos quais são os tipos de dados, vamos olhar mais atentamente para as varíaveis que não são numéricas."
      ],
      "metadata": {
        "id": "-3rR4ZIY9-uu"
      }
    },
    {
      "cell_type": "markdown",
      "source": [
        "## 2.4. Tipos de Escolaridade"
      ],
      "metadata": {
        "id": "NTvF2ZOU-gmX"
      }
    },
    {
      "cell_type": "markdown",
      "source": [
        "- Query 4:\n",
        "``` sql\n",
        "SELECT DISTINCT escolaridade FROM credito;\n",
        "```\n",
        "\n",
        "Resultado:\n",
        "\n",
        "![image](https://github.com/VictorCamolese/EBAC-DataAnalyticsProjects/blob/main/escolaridade.png?raw=true)"
      ],
      "metadata": {
        "id": "tFVubpSP-jTZ"
      }
    },
    {
      "cell_type": "markdown",
      "source": [
        "Os dados contam com vários níveis de escolaridade e é possível perceber que temos valores nulos (na) no dataset, trataremos isso mais tarde!\\\n",
        "Agora, será que temos mais dados nulos? Veremos a seguir"
      ],
      "metadata": {
        "id": "4ZWcgJ9w_tPZ"
      }
    },
    {
      "cell_type": "markdown",
      "source": [
        "## 2.5. Tipos de Estado Civil"
      ],
      "metadata": {
        "id": "gdkvDtJZAAlg"
      }
    },
    {
      "cell_type": "markdown",
      "source": [
        "- Query 5:\n",
        "``` sql\n",
        "SELECT DISTINCT estado_civil FROM credito;\n",
        "```\n",
        "\n",
        "Resultado:\n",
        "\n",
        "![image](https://github.com/VictorCamolese/EBAC-DataAnalyticsProjects/blob/main/estado%20civil.png?raw=true)"
      ],
      "metadata": {
        "id": "p53XiftiAE0H"
      }
    },
    {
      "cell_type": "markdown",
      "source": [
        "Como podemos ver, novamente dados nulos presentes no Banco de Dados"
      ],
      "metadata": {
        "id": "_YTolJbAAUtm"
      }
    },
    {
      "cell_type": "markdown",
      "source": [
        "## 2.6. Tipos de Salário Anual"
      ],
      "metadata": {
        "id": "Jyf1roiGBDY_"
      }
    },
    {
      "cell_type": "markdown",
      "source": [
        "- Query 6:\n",
        "``` sql\n",
        "SELECT DISTINCT salario_anual FROM credito;\n",
        "```\n",
        "\n",
        "Resultado:\n",
        "\n",
        "![image](https://github.com/VictorCamolese/EBAC-DataAnalyticsProjects/blob/main/salario%20anual.png?raw=true)"
      ],
      "metadata": {
        "id": "EtW12uXQBGvM"
      }
    },
    {
      "cell_type": "markdown",
      "source": [
        "Os salários nesse dataset não estão expostas com o valor exato que o cliente ganha. O que está informado é a faixa salarial de cada um. Também contem dados nulos."
      ],
      "metadata": {
        "id": "fzh_VlnxBRYh"
      }
    },
    {
      "cell_type": "markdown",
      "source": [
        "## 2.7. Tipos de Cartões"
      ],
      "metadata": {
        "id": "mv7kcKq1BlWc"
      }
    },
    {
      "cell_type": "markdown",
      "source": [
        "- Query 7:\n",
        "``` sql\n",
        "SELECT DISTINCT tipo_cartao FROM credito;\n",
        "```\n",
        "\n",
        "Resultado:\n",
        "\n",
        "![image](https://github.com/VictorCamolese/EBAC-DataAnalyticsProjects/blob/main/tipo%20cartao.png?raw=true)"
      ],
      "metadata": {
        "id": "di6M8_KOBod8"
      }
    },
    {
      "cell_type": "markdown",
      "source": [
        "Aqui vemos que não há necessidade de tratar valores nulos!"
      ],
      "metadata": {
        "id": "OPR-mdWjBw2N"
      }
    },
    {
      "cell_type": "markdown",
      "source": [
        "Agora que já temos uma base dos dados que estamos lidando, vamos seguir com uma análise mais aprofundada destes."
      ],
      "metadata": {
        "id": "hdamsLk7B6b9"
      }
    },
    {
      "cell_type": "markdown",
      "source": [
        "# 3\\. Análise de Dados"
      ],
      "metadata": {
        "id": "si0d4IfvCBd8"
      }
    },
    {
      "cell_type": "markdown",
      "source": [
        "Uma vez que exploramos o dados e buscamos entender quais são as informações que temos no nosso banco de dados, podemos analisar as informações para buscar entender o que está acontecendo no banco de dados. \\\n",
        "Assim, vamos fazer perguntas:"
      ],
      "metadata": {
        "id": "m8EvYumCCQz0"
      }
    },
    {
      "cell_type": "markdown",
      "source": [
        "## 3.1. Query 1"
      ],
      "metadata": {
        "id": "sUNofIpcCqYr"
      }
    },
    {
      "cell_type": "markdown",
      "source": [
        "**Nesse banco de dados, quantos clientes temos de cada faixa salarial?**"
      ],
      "metadata": {
        "id": "SP6CA9TVCUvW"
      }
    },
    {
      "cell_type": "markdown",
      "source": [
        "``` sql\n",
        "SELECT COUNT(*) AS quantd_pessoas, salario_anual FROM credito GROUP BY salario_anual;\n",
        "```\n",
        "\n",
        "Resultado:\n",
        "\n",
        "![image](https://github.com/VictorCamolese/EBAC-DataAnalyticsProjects/blob/main/pessoas%20p%20salario.png?raw=true)"
      ],
      "metadata": {
        "id": "QtFc16WuCviD"
      }
    },
    {
      "cell_type": "markdown",
      "source": [
        "- A maioria dos clientes dessa base de dados possui um renda menor que 40K e existem 235 clientes que não informaram ou não consta a faixa salarial. De certa forma, pode ser interessante para a empresa focar nesse público de mais baixa renda;\n",
        "- Temos tambem uma grande quantidade de clientes entre 80k e 120k. Seria interessante oferecer serviços e produtos especializados para esse tipo de público, para assim chamar mais pessoas de mesma situação financeira à este banco. Maiores limites de credito, vantagens especializadas, para principalmente manter individuos deste nivel social fixos nesse banco, financeiramente mais confiaveis provavelmente."
      ],
      "metadata": {
        "id": "GOgePuMTEZJL"
      }
    },
    {
      "cell_type": "markdown",
      "source": [
        "## 3.2. Query 2"
      ],
      "metadata": {
        "id": "z1gEUhxFCz9T"
      }
    },
    {
      "cell_type": "markdown",
      "source": [
        "**Nesse banco de dados, quantos clientes são homens e quantos são mulheres?**"
      ],
      "metadata": {
        "id": "m-Km1MrWEkib"
      }
    },
    {
      "cell_type": "markdown",
      "source": [
        "``` sql\n",
        "SELECT COUNT(*) AS quantd_pessoas, sexo FROM credito GROUP BY sexo;\n",
        "```\n",
        "\n",
        "Resultado:\n",
        "\n",
        "![image](https://github.com/VictorCamolese/EBAC-DataAnalyticsProjects/blob/main/pessoas%20p%20sexo.png?raw=true)"
      ],
      "metadata": {
        "id": "0u2W9KoAEVFi"
      }
    },
    {
      "cell_type": "markdown",
      "source": [
        "- A maioria dos clientes desse banco são homens.\n",
        "- Do csv extraído dos dados é possível gerar um gráfico em pizza para observarmos melhor a proporção de masculino/feminino presentes na base de dados"
      ],
      "metadata": {
        "id": "m7ToQBgMEqmM"
      }
    },
    {
      "cell_type": "markdown",
      "source": [
        "![image](https://github.com/VictorCamolese/EBAC-DataAnalyticsProjects/blob/main/query2%20grafico.png?raw=true)"
      ],
      "metadata": {
        "id": "RxM8cPVtye8Y"
      }
    },
    {
      "cell_type": "markdown",
      "source": [
        "## 3.3. Query 3"
      ],
      "metadata": {
        "id": "1r7zizCZF_Xh"
      }
    },
    {
      "cell_type": "markdown",
      "source": [
        "**Queremos focar o nosso marketing de maneira adequada para nossos clientes, qual será a idade deles?**"
      ],
      "metadata": {
        "id": "AQFRkDTgGB9x"
      }
    },
    {
      "cell_type": "markdown",
      "source": [
        "``` sql\n",
        "SELECT AVG(idade) AS media_idade, MIN(idade) AS min_idade, MAX(idade) AS max_idade, sexo FROM credito GROUP BY sexo;\n",
        "```\n",
        "\n",
        "Resultado:\n",
        "\n",
        "![image](https://github.com/VictorCamolese/EBAC-DataAnalyticsProjects/blob/main/idades.png?raw=true)"
      ],
      "metadata": {
        "id": "M7oSD9WMGDDB"
      }
    },
    {
      "cell_type": "markdown",
      "source": [
        "- A menor idade dos dois sexos é a mesma e a média é muito similar. A única diferença é a idade máxima mas fato quase irrelevante, pois a diferença não é tão gritante. \\\n",
        "- Neste caso, um marketing mais adequado não deve ter como base de público a idade. Outros parâmetros devem ser analisados para uma campanha de marketing que traga resultados mais relevantes."
      ],
      "metadata": {
        "id": "jLHn9swbGqbh"
      }
    },
    {
      "cell_type": "markdown",
      "source": [
        "## 3.4. Query 4"
      ],
      "metadata": {
        "id": "id_rlhrXG0A-"
      }
    },
    {
      "cell_type": "markdown",
      "source": [
        "**Qual a maior e menor transação dos clientes?**"
      ],
      "metadata": {
        "id": "ngGRLC3Jk6Wp"
      }
    },
    {
      "cell_type": "markdown",
      "source": [
        "``` sql\n",
        "SELECT MIN(valor_transacoes_12m) AS transacao_minima,\n",
        "MAX(valor_transacoes_12m) AS transacao_maxima,\n",
        "AVG(valor_transacoes_12m) AS media_transacoes\n",
        "FROM credito;\n",
        "```\n",
        "\n",
        "Resultado:\n",
        "\n",
        "![image](https://github.com/VictorCamolese/EBAC-DataAnalyticsProjects/blob/main/query4.png?raw=true)"
      ],
      "metadata": {
        "id": "UPs7OTkGk9Yn"
      }
    },
    {
      "cell_type": "markdown",
      "source": [
        "- Nesse banco de dados temos soma de transações em 12 meses variam de **510.16** a **4776.58**;\n",
        "- A media de transacoes fica por 1800. Levando em conta que estes valores são de compras unicas (no caso de transc. minima, é referente a uma compra especifica de 510.16, por exemplo), podemos supor que é um banco que mantem clientes de alto porte financeiro ou ao menos, grande estabilidade, que geralmente fazem compras com valores expressivos;\n",
        "- No geral, clientes dessa \"categoria\" apresentam grande confiança em bancos, pois o giro monetário geralmente é estável, favorecendo os clientes com bons limites de credito (supostamente) e o banco por clientes confiáveis em relação a quitação de dívidas."
      ],
      "metadata": {
        "id": "N7AAFQwAniDe"
      }
    },
    {
      "cell_type": "markdown",
      "source": [
        "## 3.5. Query 5"
      ],
      "metadata": {
        "id": "KZjLuOF5niBW"
      }
    },
    {
      "cell_type": "markdown",
      "source": [
        "**Quais as características dos clientes que possuem os maiores creditos?**\n"
      ],
      "metadata": {
        "id": "Sp6MwSd1nm7Y"
      }
    },
    {
      "cell_type": "markdown",
      "source": [
        "``` sql\n",
        "SELECT MAX(limite_credito) AS limite_credito, escolaridade, tipo_cartao, sexo FROM credito\n",
        "WHERE escolaridade != 'na' AND tipo_cartao != 'na'\n",
        "GROUP BY escolaridade, tipo_cartao, sexo\n",
        "ORDER BY limite_credito DESC LIMIT 10;\n",
        "```\n",
        "\n",
        "Resultado:\n",
        "\n",
        "![image](https://github.com/VictorCamolese/EBAC-DataAnalyticsProjects/blob/main/query5.png?raw=true)"
      ],
      "metadata": {
        "id": "w_ckSAqknuC6"
      }
    },
    {
      "cell_type": "markdown",
      "source": [
        "- Não parece haver um impacto da escolaridade no limite;\n",
        "- O limite mais alto é oferecido para um homem sem educação formal, por exemplo;\n",
        "- O cartão também parece não estar relacionado com a escolaridade nem com o limite;\n",
        "- Dentre os maiores limites, encontramos clientes com cartão: gold, silver, platinum e blue"
      ],
      "metadata": {
        "id": "YOQzlFMjo-V2"
      }
    },
    {
      "cell_type": "markdown",
      "source": [
        "## 3.6. Query 6"
      ],
      "metadata": {
        "id": "WmtPG4b4o_rY"
      }
    },
    {
      "cell_type": "markdown",
      "source": [
        "**Quais as características dos clientes que possuem os menores creditos?**"
      ],
      "metadata": {
        "id": "OdTX61QEo_VH"
      }
    },
    {
      "cell_type": "markdown",
      "source": [
        "``` sql\n",
        "SELECT MAX(limite_credito) AS limite_credito, escolaridade, tipo_cartao, sexo FROM credito\n",
        "WHERE escolaridade != 'na' AND tipo_cartao != 'na'\n",
        "GROUP BY escolaridade, tipo_cartao, sexo\n",
        "ORDER BY limite_credito ASC LIMIT 10;\n",
        "```\n",
        "\n",
        "Resultado:\n",
        "\n",
        "![image](https://github.com/VictorCamolese/EBAC-DataAnalyticsProjects/blob/main/query6.png?raw=true)"
      ],
      "metadata": {
        "id": "255XgVjxo_AA"
      }
    },
    {
      "cell_type": "markdown",
      "source": [
        "- Podemos verificar que não há presença de cartoes Platinum para clientes com menores limites\n",
        "- Também foi possível perceber que a maioria dos menores limites são mulheres enquanto nos maiores limites predomina homens.\n",
        "- Notamos que o cartão Gold pode apresentar vantagens mais interessantes que o blue  por sua escassez, porem ainda assim é presente em pessoas com limites de credito menor. Isso significa que o tipo de cartão não necessariamente define o limite de crédito, mas provavelmente serviços específicos para necessidades de cada cliente. Isso vale também ao silver"
      ],
      "metadata": {
        "id": "MDyxYGrKq4qF"
      }
    },
    {
      "cell_type": "markdown",
      "source": [
        "## 3.7. Query 7"
      ],
      "metadata": {
        "id": "0bhEIaqoqy6N"
      }
    },
    {
      "cell_type": "markdown",
      "source": [
        "**Será que as mulheres gastam mais?**"
      ],
      "metadata": {
        "id": "NJtqj0-9qy29"
      }
    },
    {
      "cell_type": "markdown",
      "source": [
        "```sql\n",
        "SELECT MAX(valor_transacoes_12m) AS maior_valor_gasto,\n",
        "AVG(valor_transacoes_12m) AS media_valor_gasto,\n",
        "MIN(valor_transacoes_12m) AS min_valor_gasto,\n",
        "sexo FROM credito\n",
        "GROUP BY sexo;\n",
        "```\n",
        "\n",
        "Resultado:\n",
        "\n",
        "![image](https://github.com/VictorCamolese/EBAC-DataAnalyticsProjects/blob/main/query7.png?raw=true)"
      ],
      "metadata": {
        "id": "mxQYfPk3qy0N"
      }
    },
    {
      "cell_type": "markdown",
      "source": [
        "- Apesar da diferença nos limites, os gastos de homens e mulheres são similares. Claramente, o valor gasto nos cartões não detém influência no limite de credito disponibilizado para cada cliente\n",
        "- Neste caso, outras questoes devem ser analisadas mais profundamente, como a inadimplencia dos clientes, nivel de rotatividade, patrimônio acomulado no nome dos clientes... Pois esses podem ser fatores chaves que definam o limite de credito e serviçoes disponiveis aos clientes."
      ],
      "metadata": {
        "id": "YraZywhiqyqU"
      }
    },
    {
      "cell_type": "markdown",
      "source": [
        "## 3.8. Query 8"
      ],
      "metadata": {
        "id": "f43ZZ8mqqynk"
      }
    },
    {
      "cell_type": "markdown",
      "source": [
        "**O salário impacta no limite?**"
      ],
      "metadata": {
        "id": "25Y6dpT9qykd"
      }
    },
    {
      "cell_type": "markdown",
      "source": [
        "```sql\n",
        "SELECT AVG(valor_transacoes_12m) AS media_transacoes,\n",
        "AVG(limite_credito) AS media_limite,\n",
        "sexo, salario_anual FROM credito\n",
        "WHERE salario_anual != 'na'\n",
        "GROUP BY sexo, salario_anual ORDER BY AVG(valor_transacoes_12m) DESC;\n",
        "```\n",
        "\n",
        "Resultado:\n",
        "\n",
        "![image](https://github.com/VictorCamolese/EBAC-DataAnalyticsProjects/blob/main/query8.png?raw=true)"
      ],
      "metadata": {
        "id": "ss4WozE-rydU"
      }
    },
    {
      "cell_type": "markdown",
      "source": [
        "- Sim, as pessoas que tem menor faixa salarial também apresentam menor limite de credito;\n",
        "- É interessante também verificar que os que recebem menos e possuem menores limites de crédito, são os que mantém liderança no valor médio de transações feitas no período de 12 meses!"
      ],
      "metadata": {
        "id": "FlxY9sjZtKPT"
      }
    },
    {
      "cell_type": "markdown",
      "source": [
        "# 4\\. Conclusão"
      ],
      "metadata": {
        "id": "DBss8Esgw7Cp"
      }
    },
    {
      "cell_type": "markdown",
      "source": [
        "Essas foram algumas análises extraídas do dataset de crédito disponibilizado pela EBAC. Espero que tenha sido util para você, caro leitor! \\\n",
        "Se interessar, salve este arquivo para estudos ou o que for mais te agradar, e me contate! Seria ótimo retirarmos conclusões em conjunto sobre este projeto."
      ],
      "metadata": {
        "id": "Pneci4mAxMCB"
      }
    },
    {
      "cell_type": "markdown",
      "source": [
        "Alguns insights interessantes:\n",
        "\n",
        "- a maior parte dos clientes possui renda até 40K\n",
        "- a maior parte dos clientes é masculino!\n",
        "- a escolaridade não parece influenciar no limite nem no tipo do cartão\n",
        "- os clientes com maiores limites são em sua maioria homens\n",
        "- os clientes com menores limites são em sua maioria mulheres\n",
        "- dentre os menores limites não há presença de cartão platinum\n",
        "- a faixa salarial impacta diretamente no limite de crédito\n",
        "- nao existem clientes com salário anual acima de 60K do sexo feminino"
      ],
      "metadata": {
        "id": "_DwBLbd4w92q"
      }
    },
    {
      "cell_type": "markdown",
      "source": [
        "Uma exploração maior dos dados pode explicar porque as mulheres tem menor crédito. Isso também pode ser um problema cultural que pode ser repensado!"
      ],
      "metadata": {
        "id": "anyD2Yx3xH66"
      }
    },
    {
      "cell_type": "markdown",
      "source": [
        "# Contatos"
      ],
      "metadata": {
        "id": "fswb0jnnxt6g"
      }
    },
    {
      "cell_type": "markdown",
      "source": [
        "**victorcamolese@gmail.com** \\\n",
        "[**Instagram**](https://www.instagram.com/victorcamolese/#) \\\n",
        "[**Linkedin**](https://www.linkedin.com/in/victorcamolese/)"
      ],
      "metadata": {
        "id": "ECbDoClsxxQQ"
      }
    }
  ]
}