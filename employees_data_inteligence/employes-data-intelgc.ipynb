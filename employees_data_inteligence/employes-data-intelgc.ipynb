{
 "cells": [
  {
   "cell_type": "markdown",
   "metadata": {},
   "source": [
    "# Projeto - Employees Data\n",
    "\n",
    "Vamos utilizar conceitos de manipulação de Data e Inteligência de Dados para criar um arquivo Power BI usando o DataFrame `employees_sample_data`\n",
    "\n",
    "Com o arquivo gerado, ao final, retiraremos insights valiosos da empresa que nos forneceu esta base de dados\n"
   ]
  },
  {
   "cell_type": "markdown",
   "metadata": {},
   "source": [
    "Sinta-se à vontade para salvar este projeto e testá-lo. Recomendo especialmente para aqueles que estão nos inícios dos estudos de Power BI, verificando como iniciei de uma base de dados bruta, a manipulei e posteriormente transformei ela em dados visuais no PowerBI.\n",
    "\n",
    "Agradeço desde já pela sua atenção, e use este projeto com carinho!"
   ]
  },
  {
   "cell_type": "markdown",
   "metadata": {},
   "source": [
    "# 1- Primeiras Impressões"
   ]
  },
  {
   "cell_type": "markdown",
   "metadata": {},
   "source": [
    "Vamos ter um panorama inicial do arquivo `employee_sample_data.xlsx` disponibilizado para nossos estudos"
   ]
  },
  {
   "cell_type": "code",
   "execution_count": 96,
   "metadata": {},
   "outputs": [],
   "source": [
    "import pandas as pd\n",
    "import seaborn as sns\n",
    "import numpy as np"
   ]
  },
  {
   "cell_type": "code",
   "execution_count": 97,
   "metadata": {},
   "outputs": [
    {
     "data": {
      "text/html": [
       "<div>\n",
       "<style scoped>\n",
       "    .dataframe tbody tr th:only-of-type {\n",
       "        vertical-align: middle;\n",
       "    }\n",
       "\n",
       "    .dataframe tbody tr th {\n",
       "        vertical-align: top;\n",
       "    }\n",
       "\n",
       "    .dataframe thead th {\n",
       "        text-align: right;\n",
       "    }\n",
       "</style>\n",
       "<table border=\"1\" class=\"dataframe\">\n",
       "  <thead>\n",
       "    <tr style=\"text-align: right;\">\n",
       "      <th></th>\n",
       "      <th>EEID</th>\n",
       "      <th>Full Name</th>\n",
       "      <th>Job Title</th>\n",
       "      <th>Department</th>\n",
       "      <th>Business Unit</th>\n",
       "      <th>Gender</th>\n",
       "      <th>Ethnicity</th>\n",
       "      <th>Age</th>\n",
       "      <th>Hire Date</th>\n",
       "      <th>Annual Salary</th>\n",
       "      <th>Bonus %</th>\n",
       "      <th>Country</th>\n",
       "      <th>City</th>\n",
       "      <th>Exit Date</th>\n",
       "    </tr>\n",
       "  </thead>\n",
       "  <tbody>\n",
       "    <tr>\n",
       "      <th>0</th>\n",
       "      <td>E02387</td>\n",
       "      <td>Emily Davis</td>\n",
       "      <td>Sr. Manger</td>\n",
       "      <td>IT</td>\n",
       "      <td>Research &amp; Development</td>\n",
       "      <td>Female</td>\n",
       "      <td>Black</td>\n",
       "      <td>55</td>\n",
       "      <td>2016-04-08</td>\n",
       "      <td>141604</td>\n",
       "      <td>0.15</td>\n",
       "      <td>United States</td>\n",
       "      <td>Seattle</td>\n",
       "      <td>2021-10-16</td>\n",
       "    </tr>\n",
       "    <tr>\n",
       "      <th>1</th>\n",
       "      <td>E04105</td>\n",
       "      <td>Theodore Dinh</td>\n",
       "      <td>Technical Architect</td>\n",
       "      <td>IT</td>\n",
       "      <td>Manufacturing</td>\n",
       "      <td>Male</td>\n",
       "      <td>Asian</td>\n",
       "      <td>59</td>\n",
       "      <td>1997-11-29</td>\n",
       "      <td>99975</td>\n",
       "      <td>0.00</td>\n",
       "      <td>China</td>\n",
       "      <td>Chongqing</td>\n",
       "      <td>NaT</td>\n",
       "    </tr>\n",
       "    <tr>\n",
       "      <th>2</th>\n",
       "      <td>E02572</td>\n",
       "      <td>Luna Sanders</td>\n",
       "      <td>Director</td>\n",
       "      <td>Finance</td>\n",
       "      <td>Speciality Products</td>\n",
       "      <td>Female</td>\n",
       "      <td>Caucasian</td>\n",
       "      <td>50</td>\n",
       "      <td>2006-10-26</td>\n",
       "      <td>163099</td>\n",
       "      <td>0.20</td>\n",
       "      <td>United States</td>\n",
       "      <td>Chicago</td>\n",
       "      <td>NaT</td>\n",
       "    </tr>\n",
       "    <tr>\n",
       "      <th>3</th>\n",
       "      <td>E02832</td>\n",
       "      <td>Penelope Jordan</td>\n",
       "      <td>Computer Systems Manager</td>\n",
       "      <td>IT</td>\n",
       "      <td>Manufacturing</td>\n",
       "      <td>Female</td>\n",
       "      <td>Caucasian</td>\n",
       "      <td>26</td>\n",
       "      <td>2019-09-27</td>\n",
       "      <td>84913</td>\n",
       "      <td>0.07</td>\n",
       "      <td>United States</td>\n",
       "      <td>Chicago</td>\n",
       "      <td>NaT</td>\n",
       "    </tr>\n",
       "    <tr>\n",
       "      <th>4</th>\n",
       "      <td>E01639</td>\n",
       "      <td>Austin Vo</td>\n",
       "      <td>Sr. Analyst</td>\n",
       "      <td>Finance</td>\n",
       "      <td>Manufacturing</td>\n",
       "      <td>Male</td>\n",
       "      <td>Asian</td>\n",
       "      <td>55</td>\n",
       "      <td>1995-11-20</td>\n",
       "      <td>95409</td>\n",
       "      <td>0.00</td>\n",
       "      <td>United States</td>\n",
       "      <td>Phoenix</td>\n",
       "      <td>NaT</td>\n",
       "    </tr>\n",
       "  </tbody>\n",
       "</table>\n",
       "</div>"
      ],
      "text/plain": [
       "     EEID        Full Name                 Job Title Department   \n",
       "0  E02387      Emily Davis                Sr. Manger         IT  \\\n",
       "1  E04105    Theodore Dinh       Technical Architect         IT   \n",
       "2  E02572     Luna Sanders                  Director    Finance   \n",
       "3  E02832  Penelope Jordan  Computer Systems Manager         IT   \n",
       "4  E01639        Austin Vo               Sr. Analyst    Finance   \n",
       "\n",
       "            Business Unit  Gender  Ethnicity  Age  Hire Date  Annual Salary   \n",
       "0  Research & Development  Female      Black   55 2016-04-08         141604  \\\n",
       "1           Manufacturing    Male      Asian   59 1997-11-29          99975   \n",
       "2     Speciality Products  Female  Caucasian   50 2006-10-26         163099   \n",
       "3           Manufacturing  Female  Caucasian   26 2019-09-27          84913   \n",
       "4           Manufacturing    Male      Asian   55 1995-11-20          95409   \n",
       "\n",
       "   Bonus %        Country       City  Exit Date  \n",
       "0     0.15  United States    Seattle 2021-10-16  \n",
       "1     0.00          China  Chongqing        NaT  \n",
       "2     0.20  United States    Chicago        NaT  \n",
       "3     0.07  United States    Chicago        NaT  \n",
       "4     0.00  United States    Phoenix        NaT  "
      ]
     },
     "execution_count": 97,
     "metadata": {},
     "output_type": "execute_result"
    }
   ],
   "source": [
    "data = pd.read_excel('employee_sample_data.xlsx')\n",
    "data.head()"
   ]
  },
  {
   "cell_type": "code",
   "execution_count": 98,
   "metadata": {},
   "outputs": [
    {
     "name": "stdout",
     "output_type": "stream",
     "text": [
      "<class 'pandas.core.frame.DataFrame'>\n",
      "RangeIndex: 1000 entries, 0 to 999\n",
      "Data columns (total 14 columns):\n",
      " #   Column         Non-Null Count  Dtype         \n",
      "---  ------         --------------  -----         \n",
      " 0   EEID           1000 non-null   object        \n",
      " 1   Full Name      1000 non-null   object        \n",
      " 2   Job Title      1000 non-null   object        \n",
      " 3   Department     1000 non-null   object        \n",
      " 4   Business Unit  1000 non-null   object        \n",
      " 5   Gender         1000 non-null   object        \n",
      " 6   Ethnicity      1000 non-null   object        \n",
      " 7   Age            1000 non-null   int64         \n",
      " 8   Hire Date      1000 non-null   datetime64[ns]\n",
      " 9   Annual Salary  1000 non-null   int64         \n",
      " 10  Bonus %        1000 non-null   float64       \n",
      " 11  Country        1000 non-null   object        \n",
      " 12  City           1000 non-null   object        \n",
      " 13  Exit Date      85 non-null     datetime64[ns]\n",
      "dtypes: datetime64[ns](2), float64(1), int64(2), object(9)\n",
      "memory usage: 109.5+ KB\n"
     ]
    }
   ],
   "source": [
    "data.info()"
   ]
  },
  {
   "cell_type": "markdown",
   "metadata": {},
   "source": [
    "# 2- Formatação/Limpeza dos dados"
   ]
  },
  {
   "cell_type": "markdown",
   "metadata": {},
   "source": [
    "- Limpeza de indices incorretos no `Job Title`"
   ]
  },
  {
   "cell_type": "code",
   "execution_count": 99,
   "metadata": {},
   "outputs": [
    {
     "data": {
      "text/html": [
       "<div>\n",
       "<style scoped>\n",
       "    .dataframe tbody tr th:only-of-type {\n",
       "        vertical-align: middle;\n",
       "    }\n",
       "\n",
       "    .dataframe tbody tr th {\n",
       "        vertical-align: top;\n",
       "    }\n",
       "\n",
       "    .dataframe thead th {\n",
       "        text-align: right;\n",
       "    }\n",
       "</style>\n",
       "<table border=\"1\" class=\"dataframe\">\n",
       "  <thead>\n",
       "    <tr style=\"text-align: right;\">\n",
       "      <th></th>\n",
       "      <th>EEID</th>\n",
       "      <th>Full Name</th>\n",
       "      <th>Job Title</th>\n",
       "      <th>Department</th>\n",
       "      <th>Business Unit</th>\n",
       "      <th>Gender</th>\n",
       "      <th>Ethnicity</th>\n",
       "      <th>Age</th>\n",
       "      <th>Hire Date</th>\n",
       "      <th>Annual Salary</th>\n",
       "      <th>Bonus %</th>\n",
       "      <th>Country</th>\n",
       "      <th>City</th>\n",
       "      <th>Exit Date</th>\n",
       "    </tr>\n",
       "  </thead>\n",
       "  <tbody>\n",
       "    <tr>\n",
       "      <th>0</th>\n",
       "      <td>E02387</td>\n",
       "      <td>Emily Davis</td>\n",
       "      <td>Sr. Manager</td>\n",
       "      <td>IT</td>\n",
       "      <td>Research &amp; Development</td>\n",
       "      <td>Female</td>\n",
       "      <td>Black</td>\n",
       "      <td>55</td>\n",
       "      <td>2016-04-08</td>\n",
       "      <td>141604</td>\n",
       "      <td>0.15</td>\n",
       "      <td>United States</td>\n",
       "      <td>Seattle</td>\n",
       "      <td>2021-10-16</td>\n",
       "    </tr>\n",
       "    <tr>\n",
       "      <th>1</th>\n",
       "      <td>E04105</td>\n",
       "      <td>Theodore Dinh</td>\n",
       "      <td>Technical Architect</td>\n",
       "      <td>IT</td>\n",
       "      <td>Manufacturing</td>\n",
       "      <td>Male</td>\n",
       "      <td>Asian</td>\n",
       "      <td>59</td>\n",
       "      <td>1997-11-29</td>\n",
       "      <td>99975</td>\n",
       "      <td>0.00</td>\n",
       "      <td>China</td>\n",
       "      <td>Chongqing</td>\n",
       "      <td>NaT</td>\n",
       "    </tr>\n",
       "    <tr>\n",
       "      <th>2</th>\n",
       "      <td>E02572</td>\n",
       "      <td>Luna Sanders</td>\n",
       "      <td>Director</td>\n",
       "      <td>Finance</td>\n",
       "      <td>Speciality Products</td>\n",
       "      <td>Female</td>\n",
       "      <td>Caucasian</td>\n",
       "      <td>50</td>\n",
       "      <td>2006-10-26</td>\n",
       "      <td>163099</td>\n",
       "      <td>0.20</td>\n",
       "      <td>United States</td>\n",
       "      <td>Chicago</td>\n",
       "      <td>NaT</td>\n",
       "    </tr>\n",
       "    <tr>\n",
       "      <th>3</th>\n",
       "      <td>E02832</td>\n",
       "      <td>Penelope Jordan</td>\n",
       "      <td>Computer Systems Manager</td>\n",
       "      <td>IT</td>\n",
       "      <td>Manufacturing</td>\n",
       "      <td>Female</td>\n",
       "      <td>Caucasian</td>\n",
       "      <td>26</td>\n",
       "      <td>2019-09-27</td>\n",
       "      <td>84913</td>\n",
       "      <td>0.07</td>\n",
       "      <td>United States</td>\n",
       "      <td>Chicago</td>\n",
       "      <td>NaT</td>\n",
       "    </tr>\n",
       "    <tr>\n",
       "      <th>4</th>\n",
       "      <td>E01639</td>\n",
       "      <td>Austin Vo</td>\n",
       "      <td>Sr. Analyst</td>\n",
       "      <td>Finance</td>\n",
       "      <td>Manufacturing</td>\n",
       "      <td>Male</td>\n",
       "      <td>Asian</td>\n",
       "      <td>55</td>\n",
       "      <td>1995-11-20</td>\n",
       "      <td>95409</td>\n",
       "      <td>0.00</td>\n",
       "      <td>United States</td>\n",
       "      <td>Phoenix</td>\n",
       "      <td>NaT</td>\n",
       "    </tr>\n",
       "  </tbody>\n",
       "</table>\n",
       "</div>"
      ],
      "text/plain": [
       "     EEID        Full Name                 Job Title Department   \n",
       "0  E02387      Emily Davis               Sr. Manager         IT  \\\n",
       "1  E04105    Theodore Dinh       Technical Architect         IT   \n",
       "2  E02572     Luna Sanders                  Director    Finance   \n",
       "3  E02832  Penelope Jordan  Computer Systems Manager         IT   \n",
       "4  E01639        Austin Vo               Sr. Analyst    Finance   \n",
       "\n",
       "            Business Unit  Gender  Ethnicity  Age  Hire Date  Annual Salary   \n",
       "0  Research & Development  Female      Black   55 2016-04-08         141604  \\\n",
       "1           Manufacturing    Male      Asian   59 1997-11-29          99975   \n",
       "2     Speciality Products  Female  Caucasian   50 2006-10-26         163099   \n",
       "3           Manufacturing  Female  Caucasian   26 2019-09-27          84913   \n",
       "4           Manufacturing    Male      Asian   55 1995-11-20          95409   \n",
       "\n",
       "   Bonus %        Country       City  Exit Date  \n",
       "0     0.15  United States    Seattle 2021-10-16  \n",
       "1     0.00          China  Chongqing        NaT  \n",
       "2     0.20  United States    Chicago        NaT  \n",
       "3     0.07  United States    Chicago        NaT  \n",
       "4     0.00  United States    Phoenix        NaT  "
      ]
     },
     "execution_count": 99,
     "metadata": {},
     "output_type": "execute_result"
    }
   ],
   "source": [
    "data['Job Title'] = data['Job Title'].apply(lambda x: 'Sr. Manager' if x == 'Sr. Manger' else x)\n",
    "data['Job Title'] = data['Job Title'].apply(lambda x: 'System Administrator' if x == 'System Administrator\\xa0' else x)\n",
    "\n",
    "data.head()"
   ]
  },
  {
   "cell_type": "markdown",
   "metadata": {},
   "source": [
    "# 3- Manipulação de Dados"
   ]
  },
  {
   "cell_type": "markdown",
   "metadata": {},
   "source": [
    "Aqui criaremos novas colunas no Banco de Dados para incrementar nossas informações.\n",
    "\n",
    "- **Years of Service**: Esta informa os anos de servico exercido pelo colaborador no cargo respectivo;\n",
    "- **Hired**: Coluna com indices 1 (colaborador ainda contratado) ou 0 (colaborador não mais contratado);\n",
    "- **Category**: Com base no tempo de servico do funcionário, informa a categoria dele. Teremos funcionários Iniciantes, Intermediários e Veteranos"
   ]
  },
  {
   "cell_type": "markdown",
   "metadata": {},
   "source": [
    "## 3.1- Coluna `Years of Service`"
   ]
  },
  {
   "cell_type": "markdown",
   "metadata": {},
   "source": [
    "Vamos definir os Exit Date nulos como o dia de hoje para calcular os anos de serviços de todos os funcionários. Após isso, retornamos os valores nulos"
   ]
  },
  {
   "cell_type": "code",
   "execution_count": 100,
   "metadata": {},
   "outputs": [],
   "source": [
    "import datetime\n",
    "\n",
    "# transformando os valores nulos na data de hoje\n",
    "data['Exit Date'].fillna(pd.to_datetime(datetime.date.today()), inplace=True)\n",
    "data.head()\n",
    "\n",
    "# calculo de anos de servico\n",
    "data['Years of Service'] = round((data['Exit Date'] - data['Hire Date']).dt.days / 365, 1)\n",
    "\n",
    "# transformando novamente o que for == data de hoje em NaN\n",
    "data_de_hoje = datetime.date.today()\n",
    "data.loc[data['Exit Date'] == pd.to_datetime(data_de_hoje), 'Exit Date'] = np.nan"
   ]
  },
  {
   "cell_type": "markdown",
   "metadata": {},
   "source": [
    "## 3.2- Coluna `Hired`"
   ]
  },
  {
   "cell_type": "markdown",
   "metadata": {},
   "source": [
    "Esta coluna retornará: \\\n",
    " 0 == funcionário **não** mais contratado \\\n",
    " 1 == funcionário ainda contratado"
   ]
  },
  {
   "cell_type": "code",
   "execution_count": 101,
   "metadata": {},
   "outputs": [],
   "source": [
    "# condicionando q caso instancia for nula == 0\n",
    "data['Hired'] = data['Exit Date'].apply(lambda x: 0 if pd.notna(x) else 1)"
   ]
  },
  {
   "cell_type": "code",
   "execution_count": 102,
   "metadata": {},
   "outputs": [
    {
     "data": {
      "text/html": [
       "<div>\n",
       "<style scoped>\n",
       "    .dataframe tbody tr th:only-of-type {\n",
       "        vertical-align: middle;\n",
       "    }\n",
       "\n",
       "    .dataframe tbody tr th {\n",
       "        vertical-align: top;\n",
       "    }\n",
       "\n",
       "    .dataframe thead th {\n",
       "        text-align: right;\n",
       "    }\n",
       "</style>\n",
       "<table border=\"1\" class=\"dataframe\">\n",
       "  <thead>\n",
       "    <tr style=\"text-align: right;\">\n",
       "      <th></th>\n",
       "      <th>EEID</th>\n",
       "      <th>Full Name</th>\n",
       "      <th>Job Title</th>\n",
       "      <th>Department</th>\n",
       "      <th>Business Unit</th>\n",
       "      <th>Gender</th>\n",
       "      <th>Ethnicity</th>\n",
       "      <th>Age</th>\n",
       "      <th>Hire Date</th>\n",
       "      <th>Annual Salary</th>\n",
       "      <th>Bonus %</th>\n",
       "      <th>Country</th>\n",
       "      <th>City</th>\n",
       "      <th>Exit Date</th>\n",
       "      <th>Years of Service</th>\n",
       "      <th>Hired</th>\n",
       "    </tr>\n",
       "  </thead>\n",
       "  <tbody>\n",
       "    <tr>\n",
       "      <th>0</th>\n",
       "      <td>E02387</td>\n",
       "      <td>Emily Davis</td>\n",
       "      <td>Sr. Manager</td>\n",
       "      <td>IT</td>\n",
       "      <td>Research &amp; Development</td>\n",
       "      <td>Female</td>\n",
       "      <td>Black</td>\n",
       "      <td>55</td>\n",
       "      <td>2016-04-08</td>\n",
       "      <td>141604</td>\n",
       "      <td>0.15</td>\n",
       "      <td>United States</td>\n",
       "      <td>Seattle</td>\n",
       "      <td>2021-10-16</td>\n",
       "      <td>5.5</td>\n",
       "      <td>0</td>\n",
       "    </tr>\n",
       "    <tr>\n",
       "      <th>1</th>\n",
       "      <td>E04105</td>\n",
       "      <td>Theodore Dinh</td>\n",
       "      <td>Technical Architect</td>\n",
       "      <td>IT</td>\n",
       "      <td>Manufacturing</td>\n",
       "      <td>Male</td>\n",
       "      <td>Asian</td>\n",
       "      <td>59</td>\n",
       "      <td>1997-11-29</td>\n",
       "      <td>99975</td>\n",
       "      <td>0.00</td>\n",
       "      <td>China</td>\n",
       "      <td>Chongqing</td>\n",
       "      <td>NaT</td>\n",
       "      <td>26.2</td>\n",
       "      <td>1</td>\n",
       "    </tr>\n",
       "  </tbody>\n",
       "</table>\n",
       "</div>"
      ],
      "text/plain": [
       "     EEID      Full Name            Job Title Department   \n",
       "0  E02387    Emily Davis          Sr. Manager         IT  \\\n",
       "1  E04105  Theodore Dinh  Technical Architect         IT   \n",
       "\n",
       "            Business Unit  Gender Ethnicity  Age  Hire Date  Annual Salary   \n",
       "0  Research & Development  Female     Black   55 2016-04-08         141604  \\\n",
       "1           Manufacturing    Male     Asian   59 1997-11-29          99975   \n",
       "\n",
       "   Bonus %        Country       City  Exit Date  Years of Service  Hired  \n",
       "0     0.15  United States    Seattle 2021-10-16               5.5      0  \n",
       "1     0.00          China  Chongqing        NaT              26.2      1  "
      ]
     },
     "execution_count": 102,
     "metadata": {},
     "output_type": "execute_result"
    }
   ],
   "source": [
    "data.head(2)"
   ]
  },
  {
   "cell_type": "markdown",
   "metadata": {},
   "source": [
    "## 3.3- Categorização de Funcionários"
   ]
  },
  {
   "cell_type": "markdown",
   "metadata": {},
   "source": [
    "Vamos separar em categorias cada funcionário de acordo com o tempo de atividade na empresa: \\\n",
    "**vet** = Veterano \\\n",
    "**int** = Intermediário \\\n",
    "**new** = Novo \n",
    "\n",
    "\n",
    "Para isso, usaremos a coluna `Years of Service` para calcular o tempo de serviço dos funcionários;\n",
    "Vamos criar também uma função que aplique a filtragem das instancias, para depois aplicarmos no DataFrame"
   ]
  },
  {
   "cell_type": "code",
   "execution_count": 103,
   "metadata": {},
   "outputs": [
    {
     "data": {
      "image/png": "[encoded data removed]",
      "text/plain": [
       "<Figure size 640x480 with 1 Axes>"
      ]
     },
     "metadata": {},
     "output_type": "display_data"
    }
   ],
   "source": [
    "# verificando os anos de servico dos funcionarios da empresa\n",
    "with sns.axes_style('whitegrid'):\n",
    "  year_grafic = sns.boxplot(x=data['Years of Service'])\n",
    "  year_grafic.set(title='Anos de Serviço', xlabel='Anos')"
   ]
  },
  {
   "cell_type": "markdown",
   "metadata": {},
   "source": [
    "- A maioria dos funcionários acomulam/acomularam de 5 a 15 anos de permanência na empresa\n",
    "- A média varia de 8 a 10 anos \\\n",
    "\\\n",
    "Com isso, vamos supor que até 5 anos ainda é uma pessoa bem nova na empresa, enquanto acima de 15 anos de empresa já é alguem bem mais familiarizado com o seu trabalho e ambiente."
   ]
  },
  {
   "cell_type": "markdown",
   "metadata": {},
   "source": [
    "Criando a função que categoriza os funcionários"
   ]
  },
  {
   "cell_type": "code",
   "execution_count": 104,
   "metadata": {},
   "outputs": [],
   "source": [
    "def category_filter(years):\n",
    "  if years <= 5:\n",
    "    return 'New'\n",
    "  elif years <= 15:\n",
    "    return 'Intermediate'\n",
    "  else:\n",
    "    return 'Veteran'"
   ]
  },
  {
   "cell_type": "markdown",
   "metadata": {},
   "source": [
    "Aplicando a função `category_filter`"
   ]
  },
  {
   "cell_type": "code",
   "execution_count": 105,
   "metadata": {},
   "outputs": [
    {
     "data": {
      "text/html": [
       "<div>\n",
       "<style scoped>\n",
       "    .dataframe tbody tr th:only-of-type {\n",
       "        vertical-align: middle;\n",
       "    }\n",
       "\n",
       "    .dataframe tbody tr th {\n",
       "        vertical-align: top;\n",
       "    }\n",
       "\n",
       "    .dataframe thead th {\n",
       "        text-align: right;\n",
       "    }\n",
       "</style>\n",
       "<table border=\"1\" class=\"dataframe\">\n",
       "  <thead>\n",
       "    <tr style=\"text-align: right;\">\n",
       "      <th></th>\n",
       "      <th>EEID</th>\n",
       "      <th>Full Name</th>\n",
       "      <th>Job Title</th>\n",
       "      <th>Department</th>\n",
       "      <th>Business Unit</th>\n",
       "      <th>Gender</th>\n",
       "      <th>Ethnicity</th>\n",
       "      <th>Age</th>\n",
       "      <th>Hire Date</th>\n",
       "      <th>Annual Salary</th>\n",
       "      <th>Bonus %</th>\n",
       "      <th>Country</th>\n",
       "      <th>City</th>\n",
       "      <th>Exit Date</th>\n",
       "      <th>Years of Service</th>\n",
       "      <th>Hired</th>\n",
       "      <th>Category</th>\n",
       "    </tr>\n",
       "  </thead>\n",
       "  <tbody>\n",
       "    <tr>\n",
       "      <th>0</th>\n",
       "      <td>E02387</td>\n",
       "      <td>Emily Davis</td>\n",
       "      <td>Sr. Manager</td>\n",
       "      <td>IT</td>\n",
       "      <td>Research &amp; Development</td>\n",
       "      <td>Female</td>\n",
       "      <td>Black</td>\n",
       "      <td>55</td>\n",
       "      <td>2016-04-08</td>\n",
       "      <td>141604</td>\n",
       "      <td>0.15</td>\n",
       "      <td>United States</td>\n",
       "      <td>Seattle</td>\n",
       "      <td>2021-10-16</td>\n",
       "      <td>5.5</td>\n",
       "      <td>0</td>\n",
       "      <td>Intermediate</td>\n",
       "    </tr>\n",
       "    <tr>\n",
       "      <th>1</th>\n",
       "      <td>E04105</td>\n",
       "      <td>Theodore Dinh</td>\n",
       "      <td>Technical Architect</td>\n",
       "      <td>IT</td>\n",
       "      <td>Manufacturing</td>\n",
       "      <td>Male</td>\n",
       "      <td>Asian</td>\n",
       "      <td>59</td>\n",
       "      <td>1997-11-29</td>\n",
       "      <td>99975</td>\n",
       "      <td>0.00</td>\n",
       "      <td>China</td>\n",
       "      <td>Chongqing</td>\n",
       "      <td>NaT</td>\n",
       "      <td>26.2</td>\n",
       "      <td>1</td>\n",
       "      <td>Veteran</td>\n",
       "    </tr>\n",
       "    <tr>\n",
       "      <th>2</th>\n",
       "      <td>E02572</td>\n",
       "      <td>Luna Sanders</td>\n",
       "      <td>Director</td>\n",
       "      <td>Finance</td>\n",
       "      <td>Speciality Products</td>\n",
       "      <td>Female</td>\n",
       "      <td>Caucasian</td>\n",
       "      <td>50</td>\n",
       "      <td>2006-10-26</td>\n",
       "      <td>163099</td>\n",
       "      <td>0.20</td>\n",
       "      <td>United States</td>\n",
       "      <td>Chicago</td>\n",
       "      <td>NaT</td>\n",
       "      <td>17.3</td>\n",
       "      <td>1</td>\n",
       "      <td>Veteran</td>\n",
       "    </tr>\n",
       "    <tr>\n",
       "      <th>3</th>\n",
       "      <td>E02832</td>\n",
       "      <td>Penelope Jordan</td>\n",
       "      <td>Computer Systems Manager</td>\n",
       "      <td>IT</td>\n",
       "      <td>Manufacturing</td>\n",
       "      <td>Female</td>\n",
       "      <td>Caucasian</td>\n",
       "      <td>26</td>\n",
       "      <td>2019-09-27</td>\n",
       "      <td>84913</td>\n",
       "      <td>0.07</td>\n",
       "      <td>United States</td>\n",
       "      <td>Chicago</td>\n",
       "      <td>NaT</td>\n",
       "      <td>4.3</td>\n",
       "      <td>1</td>\n",
       "      <td>New</td>\n",
       "    </tr>\n",
       "    <tr>\n",
       "      <th>4</th>\n",
       "      <td>E01639</td>\n",
       "      <td>Austin Vo</td>\n",
       "      <td>Sr. Analyst</td>\n",
       "      <td>Finance</td>\n",
       "      <td>Manufacturing</td>\n",
       "      <td>Male</td>\n",
       "      <td>Asian</td>\n",
       "      <td>55</td>\n",
       "      <td>1995-11-20</td>\n",
       "      <td>95409</td>\n",
       "      <td>0.00</td>\n",
       "      <td>United States</td>\n",
       "      <td>Phoenix</td>\n",
       "      <td>NaT</td>\n",
       "      <td>28.2</td>\n",
       "      <td>1</td>\n",
       "      <td>Veteran</td>\n",
       "    </tr>\n",
       "  </tbody>\n",
       "</table>\n",
       "</div>"
      ],
      "text/plain": [
       "     EEID        Full Name                 Job Title Department   \n",
       "0  E02387      Emily Davis               Sr. Manager         IT  \\\n",
       "1  E04105    Theodore Dinh       Technical Architect         IT   \n",
       "2  E02572     Luna Sanders                  Director    Finance   \n",
       "3  E02832  Penelope Jordan  Computer Systems Manager         IT   \n",
       "4  E01639        Austin Vo               Sr. Analyst    Finance   \n",
       "\n",
       "            Business Unit  Gender  Ethnicity  Age  Hire Date  Annual Salary   \n",
       "0  Research & Development  Female      Black   55 2016-04-08         141604  \\\n",
       "1           Manufacturing    Male      Asian   59 1997-11-29          99975   \n",
       "2     Speciality Products  Female  Caucasian   50 2006-10-26         163099   \n",
       "3           Manufacturing  Female  Caucasian   26 2019-09-27          84913   \n",
       "4           Manufacturing    Male      Asian   55 1995-11-20          95409   \n",
       "\n",
       "   Bonus %        Country       City  Exit Date  Years of Service  Hired   \n",
       "0     0.15  United States    Seattle 2021-10-16               5.5      0  \\\n",
       "1     0.00          China  Chongqing        NaT              26.2      1   \n",
       "2     0.20  United States    Chicago        NaT              17.3      1   \n",
       "3     0.07  United States    Chicago        NaT               4.3      1   \n",
       "4     0.00  United States    Phoenix        NaT              28.2      1   \n",
       "\n",
       "       Category  \n",
       "0  Intermediate  \n",
       "1       Veteran  \n",
       "2       Veteran  \n",
       "3           New  \n",
       "4       Veteran  "
      ]
     },
     "execution_count": 105,
     "metadata": {},
     "output_type": "execute_result"
    }
   ],
   "source": [
    "# aplicando a funcao\n",
    "data['Category'] = data['Years of Service'].apply(category_filter)\n",
    "data.head()"
   ]
  },
  {
   "cell_type": "markdown",
   "metadata": {},
   "source": [
    "## 3.4- Retoques na estrutura do DataFrame"
   ]
  },
  {
   "cell_type": "markdown",
   "metadata": {},
   "source": [
    "Vamos fazer as ultimas manipulações para deixar o DF mais fácil de retirar informações uteis\n",
    "\n",
    "- Renomeação de colunas\n",
    "- Ordenação do DF"
   ]
  },
  {
   "cell_type": "code",
   "execution_count": 110,
   "metadata": {},
   "outputs": [],
   "source": [
    "# dict() para substituicao de colunas\n",
    "columns_name = {'Job Title': 'Job',\n",
    "               'Business Unit': 'Business',\n",
    "               'Annual Salary': 'Salary',\n",
    "               'Bonus %': 'Bonus'}\n",
    "# aplicando o dict()\n",
    "data = data.rename(columns=columns_name)\n",
    "\n",
    "# reorganizando colunas\n",
    "x = ['EEID','Job','Department','Business','Gender','Ethnicity','Age','Salary','Bonus','Country','Hire Date','Exit Date','Years of Service','Hired','Category']\n",
    "data = data[x]\n",
    "\n",
    "# alterando `Salary` como float\n",
    "data['Salary'] = data['Salary'].astype(float)\n",
    "\n",
    "# para evitar erros de indices ao importar os dados no BI,\n",
    "# alteraremos os dados floats em str\n",
    "data['Bonus'] = data['Bonus'].astype(str)\n",
    "data['Years of Service'] = data['Years of Service'].astype(str)\n",
    "\n",
    "# para evitarmos dados nulos na manipulação do BI, vamos definir\n",
    "# as datas nulas como a data de hoje\n",
    "data['Exit Date'].fillna(pd.to_datetime(datetime.date.today()), inplace=True)\n",
    "\n",
    "# reordenando o DF pelos departamentos\n",
    "data = data.sort_values(by=['Department','Business'])"
   ]
  },
  {
   "cell_type": "code",
   "execution_count": 111,
   "metadata": {},
   "outputs": [
    {
     "data": {
      "text/html": [
       "<div>\n",
       "<style scoped>\n",
       "    .dataframe tbody tr th:only-of-type {\n",
       "        vertical-align: middle;\n",
       "    }\n",
       "\n",
       "    .dataframe tbody tr th {\n",
       "        vertical-align: top;\n",
       "    }\n",
       "\n",
       "    .dataframe thead th {\n",
       "        text-align: right;\n",
       "    }\n",
       "</style>\n",
       "<table border=\"1\" class=\"dataframe\">\n",
       "  <thead>\n",
       "    <tr style=\"text-align: right;\">\n",
       "      <th></th>\n",
       "      <th>EEID</th>\n",
       "      <th>Job</th>\n",
       "      <th>Department</th>\n",
       "      <th>Business</th>\n",
       "      <th>Gender</th>\n",
       "      <th>Ethnicity</th>\n",
       "      <th>Age</th>\n",
       "      <th>Salary</th>\n",
       "      <th>Bonus</th>\n",
       "      <th>Country</th>\n",
       "      <th>Hire Date</th>\n",
       "      <th>Exit Date</th>\n",
       "      <th>Years of Service</th>\n",
       "      <th>Hired</th>\n",
       "      <th>Category</th>\n",
       "    </tr>\n",
       "  </thead>\n",
       "  <tbody>\n",
       "    <tr>\n",
       "      <th>168</th>\n",
       "      <td>E00085</td>\n",
       "      <td>Vice President</td>\n",
       "      <td>Accounting</td>\n",
       "      <td>Corporate</td>\n",
       "      <td>Female</td>\n",
       "      <td>Asian</td>\n",
       "      <td>56</td>\n",
       "      <td>190815.0</td>\n",
       "      <td>0.4</td>\n",
       "      <td>United States</td>\n",
       "      <td>2014-03-16</td>\n",
       "      <td>2024-01-29</td>\n",
       "      <td>9.9</td>\n",
       "      <td>1</td>\n",
       "      <td>Intermediate</td>\n",
       "    </tr>\n",
       "    <tr>\n",
       "      <th>231</th>\n",
       "      <td>E03547</td>\n",
       "      <td>Analyst</td>\n",
       "      <td>Accounting</td>\n",
       "      <td>Corporate</td>\n",
       "      <td>Male</td>\n",
       "      <td>Asian</td>\n",
       "      <td>28</td>\n",
       "      <td>52069.0</td>\n",
       "      <td>0.0</td>\n",
       "      <td>China</td>\n",
       "      <td>2017-05-12</td>\n",
       "      <td>2024-01-29</td>\n",
       "      <td>6.7</td>\n",
       "      <td>1</td>\n",
       "      <td>Intermediate</td>\n",
       "    </tr>\n",
       "  </tbody>\n",
       "</table>\n",
       "</div>"
      ],
      "text/plain": [
       "       EEID             Job  Department   Business  Gender Ethnicity  Age   \n",
       "168  E00085  Vice President  Accounting  Corporate  Female     Asian   56  \\\n",
       "231  E03547         Analyst  Accounting  Corporate    Male     Asian   28   \n",
       "\n",
       "       Salary Bonus        Country  Hire Date  Exit Date Years of Service   \n",
       "168  190815.0   0.4  United States 2014-03-16 2024-01-29              9.9  \\\n",
       "231   52069.0   0.0          China 2017-05-12 2024-01-29              6.7   \n",
       "\n",
       "     Hired      Category  \n",
       "168      1  Intermediate  \n",
       "231      1  Intermediate  "
      ]
     },
     "execution_count": 111,
     "metadata": {},
     "output_type": "execute_result"
    }
   ],
   "source": [
    "data.head(2)"
   ]
  },
  {
   "cell_type": "code",
   "execution_count": 117,
   "metadata": {},
   "outputs": [
    {
     "name": "stdout",
     "output_type": "stream",
     "text": [
      "<class 'pandas.core.frame.DataFrame'>\n",
      "Index: 1000 entries, 168 to 988\n",
      "Data columns (total 15 columns):\n",
      " #   Column            Non-Null Count  Dtype         \n",
      "---  ------            --------------  -----         \n",
      " 0   EEID              1000 non-null   object        \n",
      " 1   Job               1000 non-null   object        \n",
      " 2   Department        1000 non-null   object        \n",
      " 3   Business          1000 non-null   object        \n",
      " 4   Gender            1000 non-null   object        \n",
      " 5   Ethnicity         1000 non-null   object        \n",
      " 6   Age               1000 non-null   int64         \n",
      " 7   Salary            1000 non-null   float64       \n",
      " 8   Bonus             1000 non-null   object        \n",
      " 9   Country           1000 non-null   object        \n",
      " 10  Hire Date         1000 non-null   datetime64[ns]\n",
      " 11  Exit Date         1000 non-null   datetime64[ns]\n",
      " 12  Years of Service  1000 non-null   object        \n",
      " 13  Hired             1000 non-null   int64         \n",
      " 14  Category          1000 non-null   object        \n",
      "dtypes: datetime64[ns](2), float64(1), int64(2), object(10)\n",
      "memory usage: 125.0+ KB\n"
     ]
    }
   ],
   "source": [
    "data.info()"
   ]
  },
  {
   "cell_type": "markdown",
   "metadata": {},
   "source": [
    "# 4- Salvando o DF"
   ]
  },
  {
   "cell_type": "markdown",
   "metadata": {},
   "source": [
    "Vamos gerar o arquivo `employees.csv` para utilizar posteriormente no Power BI como fonte de dados"
   ]
  },
  {
   "cell_type": "code",
   "execution_count": 113,
   "metadata": {},
   "outputs": [],
   "source": [
    "data.to_csv('./employees.csv', sep=',', index=False)"
   ]
  },
  {
   "cell_type": "markdown",
   "metadata": {},
   "source": [
    "# 5- Data Inteligence em PowerBI"
   ]
  },
  {
   "cell_type": "markdown",
   "metadata": {},
   "source": [
    "Instale e acesse o arquivo .pbix `data-analysis.pbix` disponivel em meu perfil no GitHub para utilizar do arquivo Power BI que criei com base nesses dados e verifique as análises possíveis de serem feitas com os dados\n",
    "\n",
    "[Link do arquivo PowerBI](https://github.com/VictorCamolese/CompleteProjects/blob/main/data-inteligence-employees/data-analysis.pbix)"
   ]
  },
  {
   "cell_type": "markdown",
   "metadata": {},
   "source": [
    "## 5.1- Insights"
   ]
  },
  {
   "cell_type": "markdown",
   "metadata": {},
   "source": [
    "Segue alguns insights relevantes que pude retirar sobre esta empresa e sua composição de funcionários"
   ]
  },
  {
   "cell_type": "markdown",
   "metadata": {},
   "source": [
    "**Composição de Funcionários por Sexo**\n",
    "- O número de funcionários totais ja contratados e também os atualmente presentes na empresa são em maioria do sexo feminino; É possivel notar também que a maioria dos funcionários demitidos são do sexo masculino;\n",
    "- A maior quantidade de funcionários contratados se encontram no departamento de TI, isso com grande vantagem em relação aos outros departamentos;\n",
    "- Dentre os outros departamentos, além de TI e Marketing, as mulheres tem em grande parte notável vantagem em quantidade;\n",
    "- Em questão de salários anuais é possível notar que **homens tem vantagem em valores de média salarial** na maioria dos setores, inclusive no setor Financeiro onde ironicamente a grande maioria dos funcionários são do sexo feminino mas ainda assim a média salárial dos homens é maior que o das mulheres;\n",
    "- Mesmo sendo o setor de maior número de funcionários presentes, o departamento de TI possui a menor média de Salário Anual dentre todos os setores da empresa\n",
    "- Em geral, a retenção de funcionários da empresa é de um nível elevado; Em ambos sexos, mais de 90% dos funcionários já contratados se mantém ativos na empresa, isso demonstra um possível sinal de estabilidade na corporação;\n",
    "- Sinais de **desvantagem na média salarial feminina podem ser vistos nos setores: Vendas, Engenharia e Financeiro**. Estes setores são predominantementes compostos por mulheres, porém a média salarial masculina é maior do que a feminina em todos. É interessante verificar os critérios estabelecidos para que esta característica viesse a ocorrer nos setores respectivos\n",
    "\n",
    "**Conclusão** \\\n",
    "A empresa apresenta ter uma tendência a contratar e manter preferencialmente funcionários do sexo feminino, como vemos em que somente 2 departamentos dos 7 existentes tem, em sua maioria, homens. Porém, a média salarial masculina apresenta vantagem na maioria dos departamentos, inclusive nos que apresentam mais mulheres contratadas. \n",
    "\n",
    "---"
   ]
  },
  {
   "cell_type": "markdown",
   "metadata": {},
   "source": [
    "**Composição de Funcionários por Etnias**\n",
    "- Asiáticos possuem a maioria em quantidade de funcionários contratados, estes trabalhando na China e nos EUA, enquanto caucasianos e latinos tem valores próximos em número. Negros apresentam uma expressiva minoria de números de contratados, estes presentes somente dos EUA;\n",
    "- Os latinos, sendo o 3° maior grupo etnico da empresa, são contratados do Brasil e EUA, com sua maioria presente no país latino-americano;\n",
    "- Em geral, a dispersão em relação Salário Anual x Tempo de Empresa não demonstra um sinal de correlação, ou seja, não apresenta um sinal que o valor do salário anual influencíe na permanencia do funcionário na empresa. Geralmente os outliers em questão de salário não possuem grande tempo de empresa, enquanto a maioria dos outliers de tempo empresarial não apresentam um grande valor total de salário anual;\n",
    "- É possível observar que os funcionários com maiores valores de salário anual e tempo empresarial exercem ou exerceram mais de um cargo dentro da empresa, por isso os valores extensos;\n",
    "- Quanto aos brasileiros, verificamos uma tendência de uma permanência e valor salarial mediana na empresa, enquanto os latinos Norte Americanos apresentam grandes vantagens nesses respectivos valores. Asiáticos também apresentam esta característica semelhantemente, porém de forma bem mais distribuida. Os valores de permanência e salario são bem mais distribuidos entre os asiáticos norte americanos e chineses, porém os outliers são somente dos EUA;\n",
    "- O número de funcionários de categoria Intermediária são a grande maioria, ou seja, isso traz concordância com a suposição na página anterior de a permanência dos funcionários na empresa ter um índice positivo. Verificamos isto também a verificar que a quantidade de funcionários novos é muito menor comparado às outras. De certa forma, isso pode demontrar tanto um fator positivo à empresa, mostrando estabilidade na retenção de funcionários, quanto também algo negativo, ao demonstrar  uma certa dificuldade de abraçar futuros novos funcionários ou iniciantes no mercado\n",
    "\n",
    "**Conclusão** \\\n",
    "A empresa é formada em sua maioria por norte americanos, estes predominantemente caucasianos. Porém, o maior grupo étnico presente, em grande maioria, é o asiático. Aparenta demonstrar vantagem à funcionários dos EUA em questões salariais, como vemos no caso dos latinos. Os negros apresentam grande desvantagem em quantidade de funcionários, porém com salarios e tempo empresarial dentro das médias de outras etnias. Porém, verificamos o pouco numero de funcionários negros com pouco tempo empresarial, o que demonstra uma tendência de que o numero deste grupo não aumente suficientemente para mostrar um numero expressivo quanto a quantidade dos outros grupos etnicos presentes na empresa\n",
    "\n",
    "---"
   ]
  },
  {
   "cell_type": "markdown",
   "metadata": {},
   "source": [
    "**Permanência de Funcionários na Empresa**\n",
    "- A tendência de funcionários contratados é constante, enquanto são raros e em poucos numeros a quantidade de funcionários demitidos;\n",
    "- Este fato demonstra, ao menos em questão interna, um tendente crescimento da empresa. Em 2021 por exemplo é visto a maior quantidade de funcionários demitidos (20) enquanto no mesmo ano se teve o recorde de funcionários contratados (81). A tendência é que mais funcionários sejam contratados do que estes sejam demitidos;\n",
    "- O setor de TI apresenta funcionários majoritariamente voltados no mercado de fabricação, provavelmente relacionado a manutenção, construção e análise de sistemas, projetos e/ou produtos tecnológicos. Pode demonstrar um sinal que esta empresa trabalha muito provavelmente no ramo Tech. Não somente nesse Business, o departamento de TI é maioria em todos as areas de mercado da empresa;\n",
    "- O setor de vendas tem sua maioria presente no mercado de Produtos Especiais, podendo demonstrar uma atenção extra tambem para essa area de mercado da empresa, no foco de vender produtos específicos;\n",
    "- Embora o numero de demissões não seja expressivo quanto o de admissões, é notável verificar que o setor que mais sofreu com isto foi o de Engenharia e o mercado de fabricação/manutenção. Isso pode demonstrar uma maior instabilidade neste departamento do que o de TI por exemplo, em que o TI expressivamente maior em numeros de funcionários sofreu menos demissões que o departamento de engenheiros.\n",
    "\n",
    "**Conclusão** \\\n",
    "O crescimento interno da empresa é expressivo ao verificarmos o constante e crescente numero de admissões, enquanto as demissões geralmente mantém-se em valores baixos. Em 2021 apresenta crescimento com maior expressão da empresa, com recordes de admissões e demissões, o ulltimo que no caso ainda assim não aparenta ter afetado a empresa negativamente, sendo ainda baixo o numero de funcionários demitidos. Por fim, a empresa aparenta dar maior atenção em areas tecnológicas, isso pois a maior quantidade de funcionários estão presentes no departamento de TI e em todas as areas de Business da empresa, estes são maioria. Muito provavelmente estamos lidando com uma empresa focada no ramo Tech.\n"
   ]
  },
  {
   "cell_type": "markdown",
   "metadata": {},
   "source": [
    "# 6- Contato"
   ]
  },
  {
   "cell_type": "markdown",
   "metadata": {},
   "source": [
    "Agradeço a atenção e espero que este projeto te auxilie em alguma forma. Recomendo especialmente o proveito deste projeto para iniciantes nos estudos de Data e Power BI, montei-o com grande carinho e espero que seja util para você assim como foi para mim.\n",
    "\n",
    "Sinta-se a vontade para me contatar nos seguintes canais:\n",
    "\n",
    "[**Linkedin**](https://www.linkedin.com/in/victorcamolese/) \\\n",
    "[**Instagram**](https://www.instagram.com/victorcamolese?igsh=bmw0aGVoZHI4dWJ5) \\\n",
    "**victorcamolese@gmail.com**"
   ]
  }
 ],
 "metadata": {
  "kernelspec": {
   "display_name": "Python 3",
   "language": "python",
   "name": "python3"
  },
  "language_info": {
   "codemirror_mode": {
    "name": "ipython",
    "version": 3
   },
   "file_extension": ".py",
   "mimetype": "text/x-python",
   "name": "python",
   "nbconvert_exporter": "python",
   "pygments_lexer": "ipython3",
   "version": "3.11.7"
  }
 },
 "nbformat": 4,
 "nbformat_minor": 2
}
